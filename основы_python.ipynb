{
  "cells": [
    {
      "cell_type": "markdown",
      "metadata": {
        "id": "M-DGa20PaHnu"
      },
      "source": [
        "#Задача 1\n",
        "Написать функцию на вход которой подается строка, состоящая из латинских букв.\n",
        "Функция должна вернуть количество гласных букв (a, e, i, o, u) в этой строке. Написать тесты для кода"
      ]
    },
    {
      "cell_type": "code",
      "execution_count": 2,
      "metadata": {
        "id": "XvX8X_JJ6PCb"
      },
      "outputs": [
        {
          "name": "stdout",
          "output_type": "stream",
          "text": [
            "True\n",
            "True\n",
            "True\n",
            "True\n",
            "True\n"
          ]
        }
      ],
      "source": [
        "def get_vowels_count(string):\n",
        "    vowels = ['a', 'e', 'i', 'o', 'u']\n",
        "    vowels_count = 0\n",
        "    if isinstance(string, str):\n",
        "        string = string.lower()\n",
        "        for symbol in string:\n",
        "            if (symbol in vowels):\n",
        "                vowels_count += 1\n",
        "    return vowels_count\n",
        "\n",
        "def vowels_count_test(string, right_result):\n",
        "    vowels_count = get_vowels_count(string)\n",
        "    return vowels_count == right_result\n",
        "\n",
        "def no_vowels():\n",
        "    return vowels_count_test('vxzkl', 0)\n",
        "\n",
        "def all_vowels():\n",
        "    return vowels_count_test('aeiou', 5)\n",
        "\n",
        "def vowels_exists():\n",
        "    return vowels_count_test('xzlke', 1)\n",
        "\n",
        "def not_string():\n",
        "    return vowels_count_test(534, 0)\n",
        "\n",
        "def capitalized_vowels():\n",
        "    return vowels_count_test('EIUOA', 5)\n",
        "\n",
        "print(no_vowels())\n",
        "print(all_vowels())\n",
        "print(vowels_exists())\n",
        "print(not_string())\n",
        "print(capitalized_vowels())"
      ]
    },
    {
      "cell_type": "markdown",
      "metadata": {
        "id": "t2ClV_Y0bbr6"
      },
      "source": [
        "# Задача 2\n",
        "Написать функцию на вход, которой подается строка. Функция должна вернуть true, если\n",
        "каждый символ в строке встречается только 1 раз, иначе должна вернуть false. Написать тесты для кода"
      ]
    },
    {
      "cell_type": "code",
      "execution_count": 3,
      "metadata": {
        "id": "FppbECao6VIz"
      },
      "outputs": [
        {
          "name": "stdout",
          "output_type": "stream",
          "text": [
            "True\n",
            "True\n",
            "True\n"
          ]
        }
      ],
      "source": [
        "def every_symbol_is_single(string):\n",
        "    if not isinstance(string, str):\n",
        "        return False\n",
        "    symbols_in_string = {}\n",
        "    for symbol in string:\n",
        "        if symbol in symbols_in_string:\n",
        "            return False\n",
        "        symbols_in_string[symbol] = 1\n",
        "    return True\n",
        "\n",
        "def every_symbol_test(object, right_result):\n",
        "    return every_symbol_is_single(object) == right_result\n",
        "\n",
        "def not_string():\n",
        "    return every_symbol_test(321321, False)\n",
        "\n",
        "def everyone_single():\n",
        "    return every_symbol_test('abcd', True)\n",
        "\n",
        "def not_single():\n",
        "    return every_symbol_test('abbbaaab', False)\n",
        "\n",
        "print(not_string())\n",
        "print(everyone_single())\n",
        "print(not_single())"
      ]
    },
    {
      "cell_type": "markdown",
      "metadata": {
        "id": "udRiIK1cdt6E"
      },
      "source": [
        "# Задача 3\n",
        "Написать функцию, которая принимает положительное число и возвращает количество\n",
        "бит равных 1 в этом числе. Написать тесты для кода"
      ]
    },
    {
      "cell_type": "code",
      "execution_count": 7,
      "metadata": {
        "id": "6tkfDJRz6dp_"
      },
      "outputs": [
        {
          "name": "stdout",
          "output_type": "stream",
          "text": [
            "True\n",
            "True\n",
            "True\n"
          ]
        }
      ],
      "source": [
        "def get_bits_count(number):\n",
        "    bits_count = 0\n",
        "    while number != 0:\n",
        "        bits_count += number % 2 == 1\n",
        "        number //= 2\n",
        "    return bits_count\n",
        "\n",
        "def bit_test(input, required_count):\n",
        "    return required_count == get_bits_count(input)\n",
        "\n",
        "def test_1():\n",
        "    return bit_test(53423, 9)\n",
        "\n",
        "def test_2():\n",
        "    return bit_test(6453, 7)\n",
        "\n",
        "def no_bits():\n",
        "    return bit_test(0, 0)\n",
        "\n",
        "print(test_1())\n",
        "print(test_2())\n",
        "print(no_bits())"
      ]
    },
    {
      "cell_type": "markdown",
      "metadata": {
        "id": "26dDUz-Ae17N"
      },
      "source": [
        "# Задача 4\n",
        "Написать функцию, которая принимает положительное число. Функция должна вернуть то,\n",
        "сколько раз необходимо перемножать цифры числа или результат перемножения, чтобы\n",
        "получилось число состоящее из одной цифры.\n",
        "Например, для входного числа:\n",
        "· 39 функция должна вернуть 3, так как 3*9=27 => 2*7=14 => 1*4=4\n",
        "· 4 функция должна вернуть 0, так как число уже состоит из одной цифры\n",
        "· 999 функция должна вернуть 4, так как 9*9*9=729 => 7*2*9=126 => 1*2*6=12 =>\n",
        "1*2=2. Написать тесты для кода"
      ]
    },
    {
      "cell_type": "code",
      "execution_count": 28,
      "metadata": {
        "id": "BH1A_Mgi6i4G"
      },
      "outputs": [
        {
          "name": "stdout",
          "output_type": "stream",
          "text": [
            "True\n",
            "True\n",
            "True\n"
          ]
        }
      ],
      "source": [
        "def get_mp_count(number):\n",
        "    mp_count = 0\n",
        "    while number % 100 > 9:\n",
        "        number = mp_digits(number)\n",
        "        mp_count += 1\n",
        "    return mp_count\n",
        "\n",
        "def mp_digits(number):\n",
        "    result = 1\n",
        "    while number != 0:\n",
        "        result *= number % 10\n",
        "        number //= 10\n",
        "    return result\n",
        "\n",
        "def test_mp_count(number, right_result):\n",
        "    return get_mp_count(number) == right_result\n",
        "\n",
        "def test_1():\n",
        "    return test_mp_count(57, 3)\n",
        "\n",
        "def test_2():\n",
        "    return test_mp_count(4, 0)\n",
        "\n",
        "def test_3():\n",
        "    return test_mp_count(999, 4)\n",
        "\n",
        "print(test_1())\n",
        "print(test_2())\n",
        "print(test_3())"
      ]
    },
    {
      "cell_type": "markdown",
      "metadata": {
        "id": "0nS-kIa8g8vd"
      },
      "source": [
        "# Задача 5\n",
        "Написать функцию, которая принимает два целочисленных вектора одинаковой длины и\n",
        "возвращает среднеквадратическое отклонение двух векторов. Написать тесты для кода"
      ]
    },
    {
      "cell_type": "code",
      "execution_count": 31,
      "metadata": {
        "id": "8iphx4LM6xbx"
      },
      "outputs": [
        {
          "name": "stdout",
          "output_type": "stream",
          "text": [
            "True\n",
            "True\n"
          ]
        }
      ],
      "source": [
        "def mse(true, pred):\n",
        "    deviation = 0\n",
        "    length = len(true)\n",
        "    for i in range(0, length):\n",
        "        deviation += (true[i] - pred[i]) ** 2\n",
        "    return deviation / length\n",
        "\n",
        "def test_mse(true, pred, right_result):\n",
        "    return mse(true, pred) == right_result\n",
        "\n",
        "def test_1():\n",
        "    return test_mse([11,20,19,17,10], [12,18,19.5,18,9], 1.45)\n",
        "\n",
        "def test_2():\n",
        "    return test_mse([2, 3, 4], [2, 3, 4], 0)\n",
        "\n",
        "print(test_1())\n",
        "print(test_2())"
      ]
    },
    {
      "cell_type": "markdown",
      "metadata": {
        "id": "vpIPKL439zkw"
      },
      "source": [
        "# Задача 6\n",
        "Написать функцию, принимающая целое положительное число. Функция должна вернуть\n",
        "строку вида “(n1**p1)(n2**p2)…(nk**pk)” представляющая разложение числа на простые\n",
        "множители (если pi == 1, то выводить только ni).\n",
        "Например, для числа 86240 функция должна вернуть “(2**5)(5)(7**2)(11)”. Написать тесты для кода"
      ]
    },
    {
      "cell_type": "code",
      "execution_count": 90,
      "metadata": {
        "id": "pFebmcZk94Jw"
      },
      "outputs": [
        {
          "name": "stdout",
          "output_type": "stream",
          "text": [
            "(2)\n",
            "True\n",
            "True\n",
            "False\n"
          ]
        }
      ],
      "source": [
        "from math import sqrt\n",
        "\n",
        "def get_result_string(number):\n",
        "    string = \"\"\n",
        "    divider = 2\n",
        "    while divider ** 2 <= number:\n",
        "        division_count = 0\n",
        "        while number % divider == 0:\n",
        "            division_count += 1\n",
        "            number //= divider\n",
        "        \n",
        "        if division_count == 1:\n",
        "            string += \"(\" + str(divider) + \")\"\n",
        "        elif division_count != 0:\n",
        "            string += \"(\" + str(divider) + \"**\" + str(division_count) + \")\"\n",
        "\n",
        "        divider += 1\n",
        "\n",
        "    if number != 1:\n",
        "        string += \"(\" + str(number) + \")\"\n",
        "\n",
        "    return string\n",
        "\n",
        "def result_test(number, string):\n",
        "    return string == get_result_string(number)\n",
        "\n",
        "def single_number_test():\n",
        "    return result_test(2, \"(2)\")\n",
        "\n",
        "def test_1():\n",
        "    return result_test(3245, \"(5)(11)(59)\")\n",
        "\n",
        "def test_2():\n",
        "    return result_test(4565465465645, \"(5)(7**2)(97)(1601)(119993)\")\n",
        "\n",
        "print(single_number_test())\n",
        "print(test_1())\n",
        "print(test_2())"
      ]
    },
    {
      "cell_type": "markdown",
      "metadata": {
        "id": "ps2s0BudX7A2"
      },
      "source": [
        "# Задача 7\n",
        "Написать функцию, принимающая целое число n, задающее количество кубиков. Функция\n",
        "должна определить, можно ли из данного кол-ва кубиков построить пирамиду, то есть\n",
        "можно ли представить число n как 1^2+2^2+3^2+…+k^2. Если можно, то функция должна\n",
        "вернуть k, иначе строку “It is impossible”. Написать тесты для кода"
      ]
    },
    {
      "cell_type": "code",
      "execution_count": 80,
      "metadata": {
        "id": "3YPjEXxhX_YT"
      },
      "outputs": [
        {
          "name": "stdout",
          "output_type": "stream",
          "text": [
            "True\n",
            "True\n"
          ]
        }
      ],
      "source": [
        "impossible_answer = \"It's impossible\"\n",
        "\n",
        "def pyramid(number):\n",
        "    sum = 0\n",
        "    progression_number = 1\n",
        "    while sum < number:\n",
        "        sum += progression_number ** 2\n",
        "        if sum == number:\n",
        "            return progression_number\n",
        "        progression_number += 1\n",
        "    return impossible_answer\n",
        "\n",
        "def pyramid_test(number, answer):\n",
        "    return pyramid(number) == answer\n",
        "\n",
        "def test_1():\n",
        "    return pyramid_test(2342, impossible_answer)\n",
        "\n",
        "def test_2():\n",
        "    return pyramid_test(14, 3)\n",
        "\n",
        "print(test_1())\n",
        "print(test_2())"
      ]
    },
    {
      "cell_type": "markdown",
      "metadata": {
        "id": "KeKgmIdAQMEJ"
      },
      "source": [
        "# Задача 8\n",
        "Функция принимает на вход положительное число и определяет является ли оно сбалансированным, т.е. сумма цифр до средних равна сумме цифр после. Средними в случае нечетного числа цифр считать одну цифру, в случае четного - две средних. Написать тесты для кода"
      ]
    },
    {
      "cell_type": "code",
      "execution_count": 35,
      "metadata": {
        "id": "gMAAqtqlQrZt"
      },
      "outputs": [
        {
          "name": "stdout",
          "output_type": "stream",
          "text": [
            "[1, 4, 3, 2]\n",
            "True\n",
            "True\n",
            "True\n",
            "True\n"
          ]
        }
      ],
      "source": [
        "def is_balanced(number):\n",
        "    digits_array = digits_to_array(number)\n",
        "    digits_count = len(digits_array)\n",
        "    middle_pos = digits_count // 2\n",
        "    if digits_count <= 2:\n",
        "        return False\n",
        "    elif digits_count % 2 == 0:\n",
        "        return sum(digits_array[:middle_pos - 1]) == sum(digits_array[middle_pos + 1:])\n",
        "    return sum(digits_array[:middle_pos]) == sum(digits_array[middle_pos + 1:])\n",
        "\n",
        "def digits_to_array(number):\n",
        "    array = []\n",
        "    while number > 0:\n",
        "        array.append(number % 10)\n",
        "        number //= 10\n",
        "    return array[::-1]\n",
        "\n",
        "def balanced_or_not_test(number, right_result):\n",
        "    return is_balanced(number) == right_result\n",
        "\n",
        "def balanced_even_test():\n",
        "    return balanced_or_not_test(197628, True)\n",
        "\n",
        "def balanced_odd_test():\n",
        "    return balanced_or_not_test(128321625, True)\n",
        "\n",
        "def not_balanced_test():\n",
        "    return balanced_or_not_test(129981, False)\n",
        "\n",
        "def two_digits_test():\n",
        "    return balanced_or_not_test(22, False)\n",
        "\n",
        "print(balanced_even_test())\n",
        "print(balanced_odd_test())\n",
        "print(not_balanced_test())\n",
        "print(two_digits_test())"
      ]
    }
  ],
  "metadata": {
    "colab": {
      "provenance": []
    },
    "kernelspec": {
      "display_name": "Python 3",
      "name": "python3"
    },
    "language_info": {
      "codemirror_mode": {
        "name": "ipython",
        "version": 3
      },
      "file_extension": ".py",
      "mimetype": "text/x-python",
      "name": "python",
      "nbconvert_exporter": "python",
      "pygments_lexer": "ipython3",
      "version": "3.10.10"
    }
  },
  "nbformat": 4,
  "nbformat_minor": 0
}
